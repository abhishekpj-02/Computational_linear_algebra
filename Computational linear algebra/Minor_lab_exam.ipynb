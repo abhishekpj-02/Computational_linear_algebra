{
 "cells": [
  {
   "cell_type": "markdown",
   "metadata": {},
   "source": [
    "### Matrix A\n",
    "  "
   ]
  },
  {
   "cell_type": "code",
   "execution_count": 20,
   "metadata": {},
   "outputs": [
    {
     "name": "stdout",
     "output_type": "stream",
     "text": [
      "[[8 3]\n",
      " [0 4]\n",
      " [9 9]\n",
      " [7 2]\n",
      " [4 6]]\n"
     ]
    }
   ],
   "source": [
    "import numpy as np\n",
    "A=np.array([[8,3],[0,4],[9,9],[7,2],[4,6]])\n",
    "print(A)"
   ]
  },
  {
   "cell_type": "markdown",
   "metadata": {},
   "source": [
    "### Scaled Matrix"
   ]
  },
  {
   "cell_type": "code",
   "execution_count": 21,
   "metadata": {},
   "outputs": [
    {
     "name": "stdout",
     "output_type": "stream",
     "text": [
      "[[-4.944 -1.854]\n",
      " [-0.    -2.472]\n",
      " [-5.562 -5.562]\n",
      " [-4.326 -1.236]\n",
      " [-2.472 -3.708]]\n"
     ]
    }
   ],
   "source": [
    "golden_ratio=-0.618\n",
    "\n",
    "scaled_matrix=A*golden_ratio\n",
    "\n",
    "print(scaled_matrix)"
   ]
  },
  {
   "cell_type": "markdown",
   "metadata": {},
   "source": [
    "### Matrix M"
   ]
  },
  {
   "cell_type": "code",
   "execution_count": 22,
   "metadata": {},
   "outputs": [
    {
     "name": "stdout",
     "output_type": "stream",
     "text": [
      "Matrix M [[27.880452  4.583088 37.810476 23.679288 19.0962  ]\n",
      " [ 4.583088  6.110784 13.749264  3.055392  9.166176]\n",
      " [37.810476 13.749264 61.871688 30.935844 34.37316 ]\n",
      " [23.679288  3.055392 30.935844 20.241972 15.27696 ]\n",
      " [19.0962    9.166176 34.37316  15.27696  19.860048]]\n"
     ]
    }
   ],
   "source": [
    "scaled_matrix_T=np.transpose(scaled_matrix)\n",
    "\n",
    "M=np.dot(scaled_matrix,scaled_matrix_T)\n",
    "\n",
    "print(\"Matrix M\",M)"
   ]
  },
  {
   "cell_type": "markdown",
   "metadata": {},
   "source": [
    "### Inverse and PseudoInverse of M"
   ]
  },
  {
   "cell_type": "code",
   "execution_count": 23,
   "metadata": {},
   "outputs": [
    {
     "name": "stdout",
     "output_type": "stream",
     "text": [
      "Inverse of M [[-3.34251535e+14  2.81474977e+14 -2.70919665e+14  6.29800260e+14\n",
      "   1.75921860e+14]\n",
      " [ 2.85873023e+14  6.33318698e+14 -6.03021044e+13  2.72678884e+13\n",
      "  -4.83785116e+14]\n",
      " [-1.40737488e+14  0.00000000e+00 -1.97032484e+14  2.53327479e+14\n",
      "   2.81474977e+14]\n",
      " [ 5.62949953e+14 -0.00000000e+00  3.62789970e+14 -7.88129935e+14\n",
      "  -5.62949953e+14]\n",
      " [-0.00000000e+00 -5.62949953e+14  3.50279971e+14 -4.50359963e+14\n",
      "  -0.00000000e+00]]\n",
      "Pseudoinverse of M [[27.880452  4.583088 37.810476 23.679288 19.0962  ]\n",
      " [ 4.583088  6.110784 13.749264  3.055392  9.166176]\n",
      " [37.810476 13.749264 61.871688 30.935844 34.37316 ]\n",
      " [23.679288  3.055392 30.935844 20.241972 15.27696 ]\n",
      " [19.0962    9.166176 34.37316  15.27696  19.860048]]\n"
     ]
    }
   ],
   "source": [
    "A_inv=np.linalg.inv(M)\n",
    "print(\"Inverse of M\",A_inv)\n",
    "\n",
    "A_pinv=np.linalg.pinv(M)\n",
    "print(\"Pseudoinverse of M\",M)\n"
   ]
  },
  {
   "cell_type": "markdown",
   "metadata": {},
   "source": [
    "### Eigen values and Eigenvec"
   ]
  },
  {
   "cell_type": "code",
   "execution_count": 24,
   "metadata": {},
   "outputs": [
    {
     "name": "stdout",
     "output_type": "stream",
     "text": [
      "Eigenvalues [ 1.23948349e+02  2.07214129e-15  1.20165952e+01 -2.02667470e-15\n",
      "  1.48267950e-15]\n",
      "Eigenvectos [[-0.45070951 -0.75632676  0.47416323  0.12502829  0.67324839]\n",
      " [-0.13880727 -0.26622287 -0.55658732  0.07693483 -0.04118159]\n",
      " [-0.70224593  0.26220881 -0.24926728 -0.61834381  0.00482383]\n",
      " [-0.37268219  0.53671878  0.5018596   0.23118021 -0.7347846 ]\n",
      " [-0.38151294 -0.01657419 -0.38907911  0.73665161 -0.07147735]]\n"
     ]
    }
   ],
   "source": [
    "eigenvalues,eigenvectors=np.linalg.eig(M)\n",
    "\n",
    "print(\"Eigenvalues\",eigenvalues)\n",
    "print(\"Eigenvectos\",eigenvectors)"
   ]
  },
  {
   "cell_type": "markdown",
   "metadata": {},
   "source": [
    "### Engery of M using Frobenious Norm"
   ]
  },
  {
   "cell_type": "code",
   "execution_count": 25,
   "metadata": {},
   "outputs": [
    {
     "name": "stdout",
     "output_type": "stream",
     "text": [
      "Enegry of M:  15507.591733973664\n"
     ]
    }
   ],
   "source": [
    "frobenious_norm=np.linalg.norm(M,'fro')\n",
    "\n",
    "Energy= frobenious_norm ** 2\n",
    "\n",
    "print(\"Enegry of M: \",Energy)\n"
   ]
  },
  {
   "cell_type": "markdown",
   "metadata": {},
   "source": [
    "### SVD"
   ]
  },
  {
   "cell_type": "code",
   "execution_count": 26,
   "metadata": {},
   "outputs": [
    {
     "name": "stdout",
     "output_type": "stream",
     "text": [
      "Matrix U [[-0.45070951  0.47416323 -0.57342049  0.17106861 -0.4625523 ]\n",
      " [-0.13880727 -0.55658732  0.15105564  0.72236291 -0.35541119]\n",
      " [-0.70224593 -0.24926728  0.36885831 -0.51119174 -0.21758454]\n",
      " [-0.37268219  0.5018596   0.48295819  0.42943494  0.43770075]\n",
      " [-0.38151294 -0.38907911 -0.52826704  0.05653305  0.64869351]]\n",
      "Singular Matiex [1.23948349e+02 1.20165952e+01 3.50505485e-15 3.24149410e-15\n",
      " 2.50004586e-16]\n",
      "V^T [[-0.45070951 -0.13880727 -0.70224593 -0.37268219 -0.38151294]\n",
      " [ 0.47416323 -0.55658732 -0.24926728  0.5018596  -0.38907911]\n",
      " [ 0.51441368  0.29576792 -0.62247284 -0.07594395  0.50463846]\n",
      " [ 0.54409721  0.23297742  0.19759174 -0.57107389 -0.53339654]\n",
      " [ 0.10661594 -0.72745169  0.1349131  -0.52664225  0.40483759]]\n"
     ]
    }
   ],
   "source": [
    "U,Sigma,VT=np.linalg.svd(M)\n",
    "\n",
    "print(\"Matrix U\",U)\n",
    "\n",
    "print(\"Singular Matiex\",Sigma)\n",
    "\n",
    "print(\"V^T\",VT)"
   ]
  },
  {
   "cell_type": "markdown",
   "metadata": {},
   "source": [
    "SUMBITTED BY : Abhishek P J\n",
    "               ER-02"
   ]
  }
 ],
 "metadata": {
  "kernelspec": {
   "display_name": "Python 3",
   "language": "python",
   "name": "python3"
  },
  "language_info": {
   "codemirror_mode": {
    "name": "ipython",
    "version": 3
   },
   "file_extension": ".py",
   "mimetype": "text/x-python",
   "name": "python",
   "nbconvert_exporter": "python",
   "pygments_lexer": "ipython3",
   "version": "3.11.9"
  }
 },
 "nbformat": 4,
 "nbformat_minor": 2
}
